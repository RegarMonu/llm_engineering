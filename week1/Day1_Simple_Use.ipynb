{
 "cells": [
  {
   "cell_type": "markdown",
   "id": "9d1f379a",
   "metadata": {},
   "source": [
    "## Exercise Using Local Deployed LLama Model 3.2"
   ]
  },
  {
   "cell_type": "markdown",
   "id": "d4998f50",
   "metadata": {},
   "source": [
    "#### Using Ollama for Language Learning"
   ]
  },
  {
   "cell_type": "markdown",
   "id": "bc915aca",
   "metadata": {},
   "source": [
    "We can now interact with the model. For example, if We want to learn French as a complete beginner, we can ask the model to have a conversation with you to teach French. \n",
    "The model provides various options and explanations, demonstrating impressive conversational abilities. This showcases the power of running large language models locally on your computer."
   ]
  },
  {
   "cell_type": "markdown",
   "id": "15014e87",
   "metadata": {},
   "source": [
    "### Commercial Quality for Free"
   ]
  },
  {
   "cell_type": "markdown",
   "id": "ebe6c376",
   "metadata": {},
   "source": []
  }
 ],
 "metadata": {
  "language_info": {
   "name": "python"
  }
 },
 "nbformat": 4,
 "nbformat_minor": 5
}
