{
 "cells": [
  {
   "cell_type": "markdown",
   "id": "b9b4ec40",
   "metadata": {},
   "source": [
    "## 1. Setting Up Ollama for Local LLM Deployment on Linux"
   ]
  },
  {
   "cell_type": "markdown",
   "id": "fe9dc935",
   "metadata": {},
   "source": [
    "#### 1.1 Steps to Install Ollama on Linux:\n",
    "\n",
    "1. Open your favorite browser\n",
    "2. Go to [Ollama's website](https://ollama.com)\n",
    "3. Click on the Download button\n",
    "4. Select Linux as your operating system\n",
    "5. Open a terminal and run:\n",
    "   ```bash\n",
    "   curl -fsSL https://ollama.com/install.sh | sh\n",
    "   ```\n",
    "6. Pull your desired model:\n",
    "   ```bash\n",
    "   ollama pull <model-name>\n",
    "   ```\n",
    "   eg. \"ollama pull llama3.2\"\n",
    "   \n",
    "7. Run the model:\n",
    "   ```bash\n",
    "   ollama run <model-name>\n",
    "   ```\n",
    "   eg. ollama run llama3.2\n",
    "\n",
    "Note: Replace `<model-name>` with the actual model you want to use (e.g., llama2, codellama, mistral)"
   ]
  },
  {
   "cell_type": "markdown",
   "id": "9235eb05",
   "metadata": {},
   "source": [
    "#### 1.2 Why is it called Ollama?\n",
    "\n",
    "Ollama got its name because it was initially created to work with Meta's LLaMA (Large Language Model Meta AI) model, which is an open-source large language model. While it started with support for LLaMA, Ollama has since expanded to support many other models available through their platform."
   ]
  },
  {
   "cell_type": "markdown",
   "id": "7df1661c",
   "metadata": {},
   "source": [
    "#### 1.3 Key Features of Ollama:\n",
    "\n",
    "1. **Easy Installation**: Simple one-line installation process\n",
    "2. **Model Management**: Easy to pull and manage different models\n",
    "3. **Local Execution**: All models run locally on your machine\n",
    "4. **Privacy**: Your data stays on your computer\n",
    "5. **Multiple Model Support**: Supports various open-source models\n",
    "6. **Command-line Interface**: Simple and intuitive CLI\n",
    "7. **API Access**: RESTful API for integration with applications"
   ]
  }
 ],
 "metadata": {
  "kernelspec": {
   "display_name": "Python (base)",
   "language": "python",
   "name": "base"
  },
  "language_info": {
   "name": "python",
   "version": "3.13.5"
  }
 },
 "nbformat": 4,
 "nbformat_minor": 5
}
